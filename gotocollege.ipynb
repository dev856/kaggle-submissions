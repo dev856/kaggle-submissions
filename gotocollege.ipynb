{
 "cells": [
  {
   "cell_type": "code",
   "execution_count": 1,
   "id": "bcd415c3",
   "metadata": {
    "execution": {
     "iopub.execute_input": "2022-06-18T06:26:18.521453Z",
     "iopub.status.busy": "2022-06-18T06:26:18.520687Z",
     "iopub.status.idle": "2022-06-18T06:26:19.608538Z",
     "shell.execute_reply": "2022-06-18T06:26:19.607721Z"
    },
    "id": "jEg6wdHoTQAe",
    "papermill": {
     "duration": 1.098979,
     "end_time": "2022-06-18T06:26:19.610860",
     "exception": false,
     "start_time": "2022-06-18T06:26:18.511881",
     "status": "completed"
    },
    "tags": []
   },
   "outputs": [],
   "source": [
    "import numpy as np\n",
    "import pandas as pd\n",
    "import matplotlib.pyplot as plt\n",
    "import seaborn as sns\n",
    "import warnings\n"
   ]
  },
  {
   "cell_type": "code",
   "execution_count": 2,
   "id": "fea7c70a",
   "metadata": {
    "execution": {
     "iopub.execute_input": "2022-06-18T06:26:19.625056Z",
     "iopub.status.busy": "2022-06-18T06:26:19.624650Z",
     "iopub.status.idle": "2022-06-18T06:26:19.645692Z",
     "shell.execute_reply": "2022-06-18T06:26:19.644708Z"
    },
    "id": "3gzMNeIjTQgT",
    "papermill": {
     "duration": 0.031415,
     "end_time": "2022-06-18T06:26:19.648914",
     "exception": false,
     "start_time": "2022-06-18T06:26:19.617499",
     "status": "completed"
    },
    "tags": []
   },
   "outputs": [],
   "source": [
    "data  = pd.read_csv('../input/go-to-college-dataset/data.csv')"
   ]
  },
  {
   "cell_type": "code",
   "execution_count": 3,
   "id": "637e4d3a",
   "metadata": {
    "execution": {
     "iopub.execute_input": "2022-06-18T06:26:19.666513Z",
     "iopub.status.busy": "2022-06-18T06:26:19.665902Z",
     "iopub.status.idle": "2022-06-18T06:26:19.700403Z",
     "shell.execute_reply": "2022-06-18T06:26:19.699327Z"
    },
    "id": "GYLQ4w6GTU2c",
    "outputId": "e991fc9e-83e1-4133-b838-66714d65a0f2",
    "papermill": {
     "duration": 0.044423,
     "end_time": "2022-06-18T06:26:19.703117",
     "exception": false,
     "start_time": "2022-06-18T06:26:19.658694",
     "status": "completed"
    },
    "tags": []
   },
   "outputs": [
    {
     "data": {
      "text/html": [
       "<div>\n",
       "<style scoped>\n",
       "    .dataframe tbody tr th:only-of-type {\n",
       "        vertical-align: middle;\n",
       "    }\n",
       "\n",
       "    .dataframe tbody tr th {\n",
       "        vertical-align: top;\n",
       "    }\n",
       "\n",
       "    .dataframe thead th {\n",
       "        text-align: right;\n",
       "    }\n",
       "</style>\n",
       "<table border=\"1\" class=\"dataframe\">\n",
       "  <thead>\n",
       "    <tr style=\"text-align: right;\">\n",
       "      <th></th>\n",
       "      <th>type_school</th>\n",
       "      <th>school_accreditation</th>\n",
       "      <th>gender</th>\n",
       "      <th>interest</th>\n",
       "      <th>residence</th>\n",
       "      <th>parent_age</th>\n",
       "      <th>parent_salary</th>\n",
       "      <th>house_area</th>\n",
       "      <th>average_grades</th>\n",
       "      <th>parent_was_in_college</th>\n",
       "      <th>in_college</th>\n",
       "    </tr>\n",
       "  </thead>\n",
       "  <tbody>\n",
       "    <tr>\n",
       "      <th>0</th>\n",
       "      <td>Academic</td>\n",
       "      <td>A</td>\n",
       "      <td>Male</td>\n",
       "      <td>Less Interested</td>\n",
       "      <td>Urban</td>\n",
       "      <td>56</td>\n",
       "      <td>6950000</td>\n",
       "      <td>83.0</td>\n",
       "      <td>84.09</td>\n",
       "      <td>False</td>\n",
       "      <td>True</td>\n",
       "    </tr>\n",
       "    <tr>\n",
       "      <th>1</th>\n",
       "      <td>Academic</td>\n",
       "      <td>A</td>\n",
       "      <td>Male</td>\n",
       "      <td>Less Interested</td>\n",
       "      <td>Urban</td>\n",
       "      <td>57</td>\n",
       "      <td>4410000</td>\n",
       "      <td>76.8</td>\n",
       "      <td>86.91</td>\n",
       "      <td>False</td>\n",
       "      <td>True</td>\n",
       "    </tr>\n",
       "    <tr>\n",
       "      <th>2</th>\n",
       "      <td>Academic</td>\n",
       "      <td>B</td>\n",
       "      <td>Female</td>\n",
       "      <td>Very Interested</td>\n",
       "      <td>Urban</td>\n",
       "      <td>50</td>\n",
       "      <td>6500000</td>\n",
       "      <td>80.6</td>\n",
       "      <td>87.43</td>\n",
       "      <td>False</td>\n",
       "      <td>True</td>\n",
       "    </tr>\n",
       "    <tr>\n",
       "      <th>3</th>\n",
       "      <td>Vocational</td>\n",
       "      <td>B</td>\n",
       "      <td>Male</td>\n",
       "      <td>Very Interested</td>\n",
       "      <td>Rural</td>\n",
       "      <td>49</td>\n",
       "      <td>6600000</td>\n",
       "      <td>78.2</td>\n",
       "      <td>82.12</td>\n",
       "      <td>True</td>\n",
       "      <td>True</td>\n",
       "    </tr>\n",
       "    <tr>\n",
       "      <th>4</th>\n",
       "      <td>Academic</td>\n",
       "      <td>A</td>\n",
       "      <td>Female</td>\n",
       "      <td>Very Interested</td>\n",
       "      <td>Urban</td>\n",
       "      <td>57</td>\n",
       "      <td>5250000</td>\n",
       "      <td>75.1</td>\n",
       "      <td>86.79</td>\n",
       "      <td>False</td>\n",
       "      <td>False</td>\n",
       "    </tr>\n",
       "  </tbody>\n",
       "</table>\n",
       "</div>"
      ],
      "text/plain": [
       "  type_school school_accreditation  gender         interest residence  \\\n",
       "0    Academic                    A    Male  Less Interested     Urban   \n",
       "1    Academic                    A    Male  Less Interested     Urban   \n",
       "2    Academic                    B  Female  Very Interested     Urban   \n",
       "3  Vocational                    B    Male  Very Interested     Rural   \n",
       "4    Academic                    A  Female  Very Interested     Urban   \n",
       "\n",
       "   parent_age  parent_salary  house_area  average_grades  \\\n",
       "0          56        6950000        83.0           84.09   \n",
       "1          57        4410000        76.8           86.91   \n",
       "2          50        6500000        80.6           87.43   \n",
       "3          49        6600000        78.2           82.12   \n",
       "4          57        5250000        75.1           86.79   \n",
       "\n",
       "   parent_was_in_college  in_college  \n",
       "0                  False        True  \n",
       "1                  False        True  \n",
       "2                  False        True  \n",
       "3                   True        True  \n",
       "4                  False       False  "
      ]
     },
     "execution_count": 3,
     "metadata": {},
     "output_type": "execute_result"
    }
   ],
   "source": [
    "data.head()"
   ]
  },
  {
   "cell_type": "code",
   "execution_count": 4,
   "id": "96802b54",
   "metadata": {
    "execution": {
     "iopub.execute_input": "2022-06-18T06:26:19.719669Z",
     "iopub.status.busy": "2022-06-18T06:26:19.719285Z",
     "iopub.status.idle": "2022-06-18T06:26:19.726139Z",
     "shell.execute_reply": "2022-06-18T06:26:19.725356Z"
    },
    "id": "0BFHFh0tTXHE",
    "outputId": "bf8ad542-2d12-4085-f443-381af6f264e6",
    "papermill": {
     "duration": 0.018068,
     "end_time": "2022-06-18T06:26:19.729341",
     "exception": false,
     "start_time": "2022-06-18T06:26:19.711273",
     "status": "completed"
    },
    "tags": []
   },
   "outputs": [
    {
     "data": {
      "text/plain": [
       "(1000, 11)"
      ]
     },
     "execution_count": 4,
     "metadata": {},
     "output_type": "execute_result"
    }
   ],
   "source": [
    "data.shape"
   ]
  },
  {
   "cell_type": "code",
   "execution_count": 5,
   "id": "e6d29fee",
   "metadata": {
    "execution": {
     "iopub.execute_input": "2022-06-18T06:26:19.747562Z",
     "iopub.status.busy": "2022-06-18T06:26:19.746955Z",
     "iopub.status.idle": "2022-06-18T06:26:19.771748Z",
     "shell.execute_reply": "2022-06-18T06:26:19.770796Z"
    },
    "id": "oqIqd5zGTker",
    "outputId": "51c26f96-09aa-434d-fa3b-fe1f568c7124",
    "papermill": {
     "duration": 0.03489,
     "end_time": "2022-06-18T06:26:19.773868",
     "exception": false,
     "start_time": "2022-06-18T06:26:19.738978",
     "status": "completed"
    },
    "tags": []
   },
   "outputs": [
    {
     "name": "stdout",
     "output_type": "stream",
     "text": [
      "<class 'pandas.core.frame.DataFrame'>\n",
      "RangeIndex: 1000 entries, 0 to 999\n",
      "Data columns (total 11 columns):\n",
      " #   Column                 Non-Null Count  Dtype  \n",
      "---  ------                 --------------  -----  \n",
      " 0   type_school            1000 non-null   object \n",
      " 1   school_accreditation   1000 non-null   object \n",
      " 2   gender                 1000 non-null   object \n",
      " 3   interest               1000 non-null   object \n",
      " 4   residence              1000 non-null   object \n",
      " 5   parent_age             1000 non-null   int64  \n",
      " 6   parent_salary          1000 non-null   int64  \n",
      " 7   house_area             1000 non-null   float64\n",
      " 8   average_grades         1000 non-null   float64\n",
      " 9   parent_was_in_college  1000 non-null   bool   \n",
      " 10  in_college             1000 non-null   bool   \n",
      "dtypes: bool(2), float64(2), int64(2), object(5)\n",
      "memory usage: 72.4+ KB\n"
     ]
    }
   ],
   "source": [
    "data.info()"
   ]
  },
  {
   "cell_type": "code",
   "execution_count": 6,
   "id": "8c7b98b6",
   "metadata": {
    "execution": {
     "iopub.execute_input": "2022-06-18T06:26:19.788601Z",
     "iopub.status.busy": "2022-06-18T06:26:19.787660Z",
     "iopub.status.idle": "2022-06-18T06:26:19.811388Z",
     "shell.execute_reply": "2022-06-18T06:26:19.810417Z"
    },
    "id": "XcoQDxY2Tl8O",
    "outputId": "e3b32d59-6460-4413-c714-4d291874699d",
    "papermill": {
     "duration": 0.032884,
     "end_time": "2022-06-18T06:26:19.813122",
     "exception": false,
     "start_time": "2022-06-18T06:26:19.780238",
     "status": "completed"
    },
    "tags": []
   },
   "outputs": [
    {
     "data": {
      "text/html": [
       "<div>\n",
       "<style scoped>\n",
       "    .dataframe tbody tr th:only-of-type {\n",
       "        vertical-align: middle;\n",
       "    }\n",
       "\n",
       "    .dataframe tbody tr th {\n",
       "        vertical-align: top;\n",
       "    }\n",
       "\n",
       "    .dataframe thead th {\n",
       "        text-align: right;\n",
       "    }\n",
       "</style>\n",
       "<table border=\"1\" class=\"dataframe\">\n",
       "  <thead>\n",
       "    <tr style=\"text-align: right;\">\n",
       "      <th></th>\n",
       "      <th>parent_age</th>\n",
       "      <th>parent_salary</th>\n",
       "      <th>house_area</th>\n",
       "      <th>average_grades</th>\n",
       "    </tr>\n",
       "  </thead>\n",
       "  <tbody>\n",
       "    <tr>\n",
       "      <th>count</th>\n",
       "      <td>1000.000000</td>\n",
       "      <td>1.000000e+03</td>\n",
       "      <td>1000.000000</td>\n",
       "      <td>1000.000000</td>\n",
       "    </tr>\n",
       "    <tr>\n",
       "      <th>mean</th>\n",
       "      <td>52.208000</td>\n",
       "      <td>5.381570e+06</td>\n",
       "      <td>74.515300</td>\n",
       "      <td>86.097200</td>\n",
       "    </tr>\n",
       "    <tr>\n",
       "      <th>std</th>\n",
       "      <td>3.500427</td>\n",
       "      <td>1.397546e+06</td>\n",
       "      <td>15.293346</td>\n",
       "      <td>3.378738</td>\n",
       "    </tr>\n",
       "    <tr>\n",
       "      <th>min</th>\n",
       "      <td>40.000000</td>\n",
       "      <td>1.000000e+06</td>\n",
       "      <td>20.000000</td>\n",
       "      <td>75.000000</td>\n",
       "    </tr>\n",
       "    <tr>\n",
       "      <th>25%</th>\n",
       "      <td>50.000000</td>\n",
       "      <td>4.360000e+06</td>\n",
       "      <td>64.600000</td>\n",
       "      <td>83.737500</td>\n",
       "    </tr>\n",
       "    <tr>\n",
       "      <th>50%</th>\n",
       "      <td>52.000000</td>\n",
       "      <td>5.440000e+06</td>\n",
       "      <td>75.500000</td>\n",
       "      <td>85.575000</td>\n",
       "    </tr>\n",
       "    <tr>\n",
       "      <th>75%</th>\n",
       "      <td>54.000000</td>\n",
       "      <td>6.382500e+06</td>\n",
       "      <td>84.825000</td>\n",
       "      <td>88.262500</td>\n",
       "    </tr>\n",
       "    <tr>\n",
       "      <th>max</th>\n",
       "      <td>65.000000</td>\n",
       "      <td>1.000000e+07</td>\n",
       "      <td>120.000000</td>\n",
       "      <td>98.000000</td>\n",
       "    </tr>\n",
       "  </tbody>\n",
       "</table>\n",
       "</div>"
      ],
      "text/plain": [
       "        parent_age  parent_salary   house_area  average_grades\n",
       "count  1000.000000   1.000000e+03  1000.000000     1000.000000\n",
       "mean     52.208000   5.381570e+06    74.515300       86.097200\n",
       "std       3.500427   1.397546e+06    15.293346        3.378738\n",
       "min      40.000000   1.000000e+06    20.000000       75.000000\n",
       "25%      50.000000   4.360000e+06    64.600000       83.737500\n",
       "50%      52.000000   5.440000e+06    75.500000       85.575000\n",
       "75%      54.000000   6.382500e+06    84.825000       88.262500\n",
       "max      65.000000   1.000000e+07   120.000000       98.000000"
      ]
     },
     "execution_count": 6,
     "metadata": {},
     "output_type": "execute_result"
    }
   ],
   "source": [
    "data.describe()"
   ]
  },
  {
   "cell_type": "code",
   "execution_count": 7,
   "id": "8b2b7cde",
   "metadata": {
    "execution": {
     "iopub.execute_input": "2022-06-18T06:26:19.828355Z",
     "iopub.status.busy": "2022-06-18T06:26:19.827677Z",
     "iopub.status.idle": "2022-06-18T06:26:19.835652Z",
     "shell.execute_reply": "2022-06-18T06:26:19.834990Z"
    },
    "id": "x-8JGKEbToYH",
    "outputId": "96ec3ca3-eae7-4519-f0f8-79b2d1e83f95",
    "papermill": {
     "duration": 0.01767,
     "end_time": "2022-06-18T06:26:19.837455",
     "exception": false,
     "start_time": "2022-06-18T06:26:19.819785",
     "status": "completed"
    },
    "tags": []
   },
   "outputs": [
    {
     "data": {
      "text/plain": [
       "type_school              0\n",
       "school_accreditation     0\n",
       "gender                   0\n",
       "interest                 0\n",
       "residence                0\n",
       "parent_age               0\n",
       "parent_salary            0\n",
       "house_area               0\n",
       "average_grades           0\n",
       "parent_was_in_college    0\n",
       "in_college               0\n",
       "dtype: int64"
      ]
     },
     "execution_count": 7,
     "metadata": {},
     "output_type": "execute_result"
    }
   ],
   "source": [
    "data.isnull().sum()"
   ]
  },
  {
   "cell_type": "code",
   "execution_count": 8,
   "id": "022480f4",
   "metadata": {
    "execution": {
     "iopub.execute_input": "2022-06-18T06:26:19.852335Z",
     "iopub.status.busy": "2022-06-18T06:26:19.851721Z",
     "iopub.status.idle": "2022-06-18T06:26:19.865105Z",
     "shell.execute_reply": "2022-06-18T06:26:19.864065Z"
    },
    "id": "NKdtsEp5TsYI",
    "outputId": "eb0488e4-cccd-4f58-9b8b-a2e4723ac324",
    "papermill": {
     "duration": 0.022769,
     "end_time": "2022-06-18T06:26:19.866906",
     "exception": false,
     "start_time": "2022-06-18T06:26:19.844137",
     "status": "completed"
    },
    "tags": []
   },
   "outputs": [
    {
     "data": {
      "text/plain": [
       "type_school                2\n",
       "school_accreditation       2\n",
       "gender                     2\n",
       "interest                   5\n",
       "residence                  2\n",
       "parent_age                25\n",
       "parent_salary            461\n",
       "house_area               472\n",
       "average_grades           684\n",
       "parent_was_in_college      2\n",
       "in_college                 2\n",
       "dtype: int64"
      ]
     },
     "execution_count": 8,
     "metadata": {},
     "output_type": "execute_result"
    }
   ],
   "source": [
    "data.nunique()"
   ]
  },
  {
   "cell_type": "code",
   "execution_count": 9,
   "id": "b1ab3adc",
   "metadata": {
    "execution": {
     "iopub.execute_input": "2022-06-18T06:26:19.882097Z",
     "iopub.status.busy": "2022-06-18T06:26:19.881335Z",
     "iopub.status.idle": "2022-06-18T06:26:19.887322Z",
     "shell.execute_reply": "2022-06-18T06:26:19.886394Z"
    },
    "id": "t7_YJhh5U-Mt",
    "outputId": "c8f72854-9a3b-45d9-eda3-f718de1d3629",
    "papermill": {
     "duration": 0.015435,
     "end_time": "2022-06-18T06:26:19.889136",
     "exception": false,
     "start_time": "2022-06-18T06:26:19.873701",
     "status": "completed"
    },
    "tags": []
   },
   "outputs": [
    {
     "data": {
      "text/plain": [
       "Index(['type_school', 'school_accreditation', 'gender', 'interest',\n",
       "       'residence', 'parent_age', 'parent_salary', 'house_area',\n",
       "       'average_grades', 'parent_was_in_college', 'in_college'],\n",
       "      dtype='object')"
      ]
     },
     "execution_count": 9,
     "metadata": {},
     "output_type": "execute_result"
    }
   ],
   "source": [
    "data.columns"
   ]
  },
  {
   "cell_type": "code",
   "execution_count": 10,
   "id": "0ae20482",
   "metadata": {
    "execution": {
     "iopub.execute_input": "2022-06-18T06:26:19.904190Z",
     "iopub.status.busy": "2022-06-18T06:26:19.903822Z",
     "iopub.status.idle": "2022-06-18T06:26:19.909010Z",
     "shell.execute_reply": "2022-06-18T06:26:19.908333Z"
    },
    "id": "mc22QBmuVJq7",
    "papermill": {
     "duration": 0.014632,
     "end_time": "2022-06-18T06:26:19.910644",
     "exception": false,
     "start_time": "2022-06-18T06:26:19.896012",
     "status": "completed"
    },
    "tags": []
   },
   "outputs": [],
   "source": [
    "data1= data[['type_school', 'school_accreditation', 'gender', 'interest',\n",
    "       'residence', 'parent_age']]"
   ]
  },
  {
   "cell_type": "code",
   "execution_count": 11,
   "id": "301eb696",
   "metadata": {
    "execution": {
     "iopub.execute_input": "2022-06-18T06:26:19.925765Z",
     "iopub.status.busy": "2022-06-18T06:26:19.925221Z",
     "iopub.status.idle": "2022-06-18T06:26:21.060064Z",
     "shell.execute_reply": "2022-06-18T06:26:21.059269Z"
    },
    "id": "YCBRyzcQUB-T",
    "outputId": "a6e6ef31-06f5-4e71-ae14-6afcb57a6121",
    "papermill": {
     "duration": 1.144401,
     "end_time": "2022-06-18T06:26:21.061746",
     "exception": false,
     "start_time": "2022-06-18T06:26:19.917345",
     "status": "completed"
    },
    "tags": []
   },
   "outputs": [
    {
     "name": "stderr",
     "output_type": "stream",
     "text": [
      "/opt/conda/lib/python3.7/site-packages/seaborn/_decorators.py:43: FutureWarning: Pass the following variable as a keyword arg: x. From version 0.12, the only valid positional argument will be `data`, and passing other arguments without an explicit keyword will result in an error or misinterpretation.\n",
      "  FutureWarning\n"
     ]
    },
    {
     "data": {
      "image/png": "[encoded data removed]",
      "text/plain": [
       "<Figure size 1080x432 with 1 Axes>"
      ]
     },
     "metadata": {
      "needs_background": "light"
     },
     "output_type": "display_data"
    },
    {
     "name": "stderr",
     "output_type": "stream",
     "text": [
      "/opt/conda/lib/python3.7/site-packages/seaborn/_decorators.py:43: FutureWarning: Pass the following variable as a keyword arg: x. From version 0.12, the only valid positional argument will be `data`, and passing other arguments without an explicit keyword will result in an error or misinterpretation.\n",
      "  FutureWarning\n"
     ]
    },
    {
     "data": {
      "image/png": "[encoded data removed]",
      "text/plain": [
       "<Figure size 1080x432 with 1 Axes>"
      ]
     },
     "metadata": {
      "needs_background": "light"
     },
     "output_type": "display_data"
    },
    {
     "name": "stderr",
     "output_type": "stream",
     "text": [
      "/opt/conda/lib/python3.7/site-packages/seaborn/_decorators.py:43: FutureWarning: Pass the following variable as a keyword arg: x. From version 0.12, the only valid positional argument will be `data`, and passing other arguments without an explicit keyword will result in an error or misinterpretation.\n",
      "  FutureWarning\n"
     ]
    },
    {
     "data": {
      "image/png": "[encoded data removed]",
      "text/plain": [
       "<Figure size 1080x432 with 1 Axes>"
      ]
     },
     "metadata": {
      "needs_background": "light"
     },
     "output_type": "display_data"
    },
    {
     "name": "stderr",
     "output_type": "stream",
     "text": [
      "/opt/conda/lib/python3.7/site-packages/seaborn/_decorators.py:43: FutureWarning: Pass the following variable as a keyword arg: x. From version 0.12, the only valid positional argument will be `data`, and passing other arguments without an explicit keyword will result in an error or misinterpretation.\n",
      "  FutureWarning\n"
     ]
    },
    {
     "data": {
      "image/png": "[encoded data removed]",
      "text/plain": [
       "<Figure size 1080x432 with 1 Axes>"
      ]
     },
     "metadata": {
      "needs_background": "light"
     },
     "output_type": "display_data"
    },
    {
     "name": "stderr",
     "output_type": "stream",
     "text": [
      "/opt/conda/lib/python3.7/site-packages/seaborn/_decorators.py:43: FutureWarning: Pass the following variable as a keyword arg: x. From version 0.12, the only valid positional argument will be `data`, and passing other arguments without an explicit keyword will result in an error or misinterpretation.\n",
      "  FutureWarning\n"
     ]
    },
    {
     "data": {
      "image/png": "[encoded data removed]",
      "text/plain": [
       "<Figure size 1080x432 with 1 Axes>"
      ]
     },
     "metadata": {
      "needs_background": "light"
     },
     "output_type": "display_data"
    },
    {
     "name": "stderr",
     "output_type": "stream",
     "text": [
      "/opt/conda/lib/python3.7/site-packages/seaborn/_decorators.py:43: FutureWarning: Pass the following variable as a keyword arg: x. From version 0.12, the only valid positional argument will be `data`, and passing other arguments without an explicit keyword will result in an error or misinterpretation.\n",
      "  FutureWarning\n"
     ]
    },
    {
     "data": {
      "image/png": "[encoded data removed]",
      "text/plain": [
       "<Figure size 1080x432 with 1 Axes>"
      ]
     },
     "metadata": {
      "needs_background": "light"
     },
     "output_type": "display_data"
    }
   ],
   "source": [
    "for i in data1.columns:\n",
    "  plt.figure(figsize=(15,6))\n",
    "  sns.countplot(data1[i],data=data1,palette='hls')\n",
    "  plt.xticks(rotation = 90)\n",
    "  plt.show()"
   ]
  },
  {
   "cell_type": "code",
   "execution_count": 12,
   "id": "b84b4c06",
   "metadata": {
    "execution": {
     "iopub.execute_input": "2022-06-18T06:26:21.081569Z",
     "iopub.status.busy": "2022-06-18T06:26:21.081021Z",
     "iopub.status.idle": "2022-06-18T06:26:21.094339Z",
     "shell.execute_reply": "2022-06-18T06:26:21.093386Z"
    },
    "id": "HIawMpTsWc9s",
    "outputId": "cefaaee5-2c14-47df-922b-985c48d94afb",
    "papermill": {
     "duration": 0.025731,
     "end_time": "2022-06-18T06:26:21.096362",
     "exception": false,
     "start_time": "2022-06-18T06:26:21.070631",
     "status": "completed"
    },
    "tags": []
   },
   "outputs": [
    {
     "data": {
      "text/html": [
       "<div>\n",
       "<style scoped>\n",
       "    .dataframe tbody tr th:only-of-type {\n",
       "        vertical-align: middle;\n",
       "    }\n",
       "\n",
       "    .dataframe tbody tr th {\n",
       "        vertical-align: top;\n",
       "    }\n",
       "\n",
       "    .dataframe thead th {\n",
       "        text-align: right;\n",
       "    }\n",
       "</style>\n",
       "<table border=\"1\" class=\"dataframe\">\n",
       "  <thead>\n",
       "    <tr style=\"text-align: right;\">\n",
       "      <th></th>\n",
       "      <th>parent_age</th>\n",
       "      <th>parent_salary</th>\n",
       "      <th>house_area</th>\n",
       "      <th>average_grades</th>\n",
       "      <th>parent_was_in_college</th>\n",
       "      <th>in_college</th>\n",
       "    </tr>\n",
       "  </thead>\n",
       "  <tbody>\n",
       "    <tr>\n",
       "      <th>parent_age</th>\n",
       "      <td>1.000000</td>\n",
       "      <td>-0.286418</td>\n",
       "      <td>0.107060</td>\n",
       "      <td>-0.006077</td>\n",
       "      <td>-0.438322</td>\n",
       "      <td>0.042873</td>\n",
       "    </tr>\n",
       "    <tr>\n",
       "      <th>parent_salary</th>\n",
       "      <td>-0.286418</td>\n",
       "      <td>1.000000</td>\n",
       "      <td>0.138357</td>\n",
       "      <td>0.306712</td>\n",
       "      <td>0.106487</td>\n",
       "      <td>0.475693</td>\n",
       "    </tr>\n",
       "    <tr>\n",
       "      <th>house_area</th>\n",
       "      <td>0.107060</td>\n",
       "      <td>0.138357</td>\n",
       "      <td>1.000000</td>\n",
       "      <td>0.409565</td>\n",
       "      <td>0.145186</td>\n",
       "      <td>0.467267</td>\n",
       "    </tr>\n",
       "    <tr>\n",
       "      <th>average_grades</th>\n",
       "      <td>-0.006077</td>\n",
       "      <td>0.306712</td>\n",
       "      <td>0.409565</td>\n",
       "      <td>1.000000</td>\n",
       "      <td>0.236713</td>\n",
       "      <td>0.505133</td>\n",
       "    </tr>\n",
       "    <tr>\n",
       "      <th>parent_was_in_college</th>\n",
       "      <td>-0.438322</td>\n",
       "      <td>0.106487</td>\n",
       "      <td>0.145186</td>\n",
       "      <td>0.236713</td>\n",
       "      <td>1.000000</td>\n",
       "      <td>0.048038</td>\n",
       "    </tr>\n",
       "    <tr>\n",
       "      <th>in_college</th>\n",
       "      <td>0.042873</td>\n",
       "      <td>0.475693</td>\n",
       "      <td>0.467267</td>\n",
       "      <td>0.505133</td>\n",
       "      <td>0.048038</td>\n",
       "      <td>1.000000</td>\n",
       "    </tr>\n",
       "  </tbody>\n",
       "</table>\n",
       "</div>"
      ],
      "text/plain": [
       "                       parent_age  parent_salary  house_area  average_grades  \\\n",
       "parent_age               1.000000      -0.286418    0.107060       -0.006077   \n",
       "parent_salary           -0.286418       1.000000    0.138357        0.306712   \n",
       "house_area               0.107060       0.138357    1.000000        0.409565   \n",
       "average_grades          -0.006077       0.306712    0.409565        1.000000   \n",
       "parent_was_in_college   -0.438322       0.106487    0.145186        0.236713   \n",
       "in_college               0.042873       0.475693    0.467267        0.505133   \n",
       "\n",
       "                       parent_was_in_college  in_college  \n",
       "parent_age                         -0.438322    0.042873  \n",
       "parent_salary                       0.106487    0.475693  \n",
       "house_area                          0.145186    0.467267  \n",
       "average_grades                      0.236713    0.505133  \n",
       "parent_was_in_college               1.000000    0.048038  \n",
       "in_college                          0.048038    1.000000  "
      ]
     },
     "execution_count": 12,
     "metadata": {},
     "output_type": "execute_result"
    }
   ],
   "source": [
    "data.corr()"
   ]
  },
  {
   "cell_type": "code",
   "execution_count": 13,
   "id": "66e8c6e7",
   "metadata": {
    "execution": {
     "iopub.execute_input": "2022-06-18T06:26:21.116501Z",
     "iopub.status.busy": "2022-06-18T06:26:21.116104Z",
     "iopub.status.idle": "2022-06-18T06:26:21.373498Z",
     "shell.execute_reply": "2022-06-18T06:26:21.372729Z"
    },
    "id": "VHcgAjqjXM6R",
    "outputId": "1efa265c-29d1-4379-cf14-613d75496c1b",
    "papermill": {
     "duration": 0.270048,
     "end_time": "2022-06-18T06:26:21.375354",
     "exception": false,
     "start_time": "2022-06-18T06:26:21.105306",
     "status": "completed"
    },
    "tags": []
   },
   "outputs": [
    {
     "data": {
      "image/png": "[encoded data removed]",
      "text/plain": [
       "<Figure size 1080x432 with 1 Axes>"
      ]
     },
     "metadata": {
      "needs_background": "light"
     },
     "output_type": "display_data"
    }
   ],
   "source": [
    "plt.figure(figsize=(15,6))\n",
    "sns.heatmap(data.corr(),annot=True,cbar=False,cmap='Blues',fmt='.1f')\n",
    "plt.show()"
   ]
  },
  {
   "cell_type": "code",
   "execution_count": 14,
   "id": "84fc9331",
   "metadata": {
    "execution": {
     "iopub.execute_input": "2022-06-18T06:26:21.396259Z",
     "iopub.status.busy": "2022-06-18T06:26:21.395303Z",
     "iopub.status.idle": "2022-06-18T06:26:21.423095Z",
     "shell.execute_reply": "2022-06-18T06:26:21.421999Z"
    },
    "id": "Iqfbo2bgaSDC",
    "outputId": "f73bbf17-ef81-4863-997d-4a2dcc717318",
    "papermill": {
     "duration": 0.040427,
     "end_time": "2022-06-18T06:26:21.425110",
     "exception": false,
     "start_time": "2022-06-18T06:26:21.384683",
     "status": "completed"
    },
    "tags": []
   },
   "outputs": [
    {
     "data": {
      "text/html": [
       "<div>\n",
       "<style scoped>\n",
       "    .dataframe tbody tr th:only-of-type {\n",
       "        vertical-align: middle;\n",
       "    }\n",
       "\n",
       "    .dataframe tbody tr th {\n",
       "        vertical-align: top;\n",
       "    }\n",
       "\n",
       "    .dataframe thead th {\n",
       "        text-align: right;\n",
       "    }\n",
       "</style>\n",
       "<table border=\"1\" class=\"dataframe\">\n",
       "  <thead>\n",
       "    <tr style=\"text-align: right;\">\n",
       "      <th></th>\n",
       "      <th>type_school</th>\n",
       "      <th>school_accreditation</th>\n",
       "      <th>gender</th>\n",
       "      <th>interest</th>\n",
       "      <th>residence</th>\n",
       "      <th>parent_age</th>\n",
       "      <th>parent_salary</th>\n",
       "      <th>house_area</th>\n",
       "      <th>average_grades</th>\n",
       "      <th>parent_was_in_college</th>\n",
       "      <th>in_college</th>\n",
       "    </tr>\n",
       "  </thead>\n",
       "  <tbody>\n",
       "    <tr>\n",
       "      <th>0</th>\n",
       "      <td>0</td>\n",
       "      <td>0</td>\n",
       "      <td>0</td>\n",
       "      <td>2</td>\n",
       "      <td>0</td>\n",
       "      <td>56</td>\n",
       "      <td>6950000</td>\n",
       "      <td>83.0</td>\n",
       "      <td>84.09</td>\n",
       "      <td>0</td>\n",
       "      <td>1</td>\n",
       "    </tr>\n",
       "    <tr>\n",
       "      <th>1</th>\n",
       "      <td>0</td>\n",
       "      <td>0</td>\n",
       "      <td>0</td>\n",
       "      <td>2</td>\n",
       "      <td>0</td>\n",
       "      <td>57</td>\n",
       "      <td>4410000</td>\n",
       "      <td>76.8</td>\n",
       "      <td>86.91</td>\n",
       "      <td>0</td>\n",
       "      <td>1</td>\n",
       "    </tr>\n",
       "    <tr>\n",
       "      <th>2</th>\n",
       "      <td>0</td>\n",
       "      <td>1</td>\n",
       "      <td>1</td>\n",
       "      <td>0</td>\n",
       "      <td>0</td>\n",
       "      <td>50</td>\n",
       "      <td>6500000</td>\n",
       "      <td>80.6</td>\n",
       "      <td>87.43</td>\n",
       "      <td>0</td>\n",
       "      <td>1</td>\n",
       "    </tr>\n",
       "    <tr>\n",
       "      <th>3</th>\n",
       "      <td>1</td>\n",
       "      <td>1</td>\n",
       "      <td>0</td>\n",
       "      <td>0</td>\n",
       "      <td>1</td>\n",
       "      <td>49</td>\n",
       "      <td>6600000</td>\n",
       "      <td>78.2</td>\n",
       "      <td>82.12</td>\n",
       "      <td>1</td>\n",
       "      <td>1</td>\n",
       "    </tr>\n",
       "    <tr>\n",
       "      <th>4</th>\n",
       "      <td>0</td>\n",
       "      <td>0</td>\n",
       "      <td>1</td>\n",
       "      <td>0</td>\n",
       "      <td>0</td>\n",
       "      <td>57</td>\n",
       "      <td>5250000</td>\n",
       "      <td>75.1</td>\n",
       "      <td>86.79</td>\n",
       "      <td>0</td>\n",
       "      <td>0</td>\n",
       "    </tr>\n",
       "    <tr>\n",
       "      <th>...</th>\n",
       "      <td>...</td>\n",
       "      <td>...</td>\n",
       "      <td>...</td>\n",
       "      <td>...</td>\n",
       "      <td>...</td>\n",
       "      <td>...</td>\n",
       "      <td>...</td>\n",
       "      <td>...</td>\n",
       "      <td>...</td>\n",
       "      <td>...</td>\n",
       "      <td>...</td>\n",
       "    </tr>\n",
       "    <tr>\n",
       "      <th>995</th>\n",
       "      <td>1</td>\n",
       "      <td>0</td>\n",
       "      <td>1</td>\n",
       "      <td>0</td>\n",
       "      <td>1</td>\n",
       "      <td>49</td>\n",
       "      <td>7420000</td>\n",
       "      <td>63.6</td>\n",
       "      <td>85.99</td>\n",
       "      <td>1</td>\n",
       "      <td>1</td>\n",
       "    </tr>\n",
       "    <tr>\n",
       "      <th>996</th>\n",
       "      <td>0</td>\n",
       "      <td>1</td>\n",
       "      <td>1</td>\n",
       "      <td>2</td>\n",
       "      <td>1</td>\n",
       "      <td>51</td>\n",
       "      <td>7480000</td>\n",
       "      <td>84.3</td>\n",
       "      <td>89.72</td>\n",
       "      <td>1</td>\n",
       "      <td>1</td>\n",
       "    </tr>\n",
       "    <tr>\n",
       "      <th>997</th>\n",
       "      <td>1</td>\n",
       "      <td>0</td>\n",
       "      <td>0</td>\n",
       "      <td>2</td>\n",
       "      <td>0</td>\n",
       "      <td>49</td>\n",
       "      <td>5550000</td>\n",
       "      <td>75.2</td>\n",
       "      <td>79.56</td>\n",
       "      <td>0</td>\n",
       "      <td>1</td>\n",
       "    </tr>\n",
       "    <tr>\n",
       "      <th>998</th>\n",
       "      <td>0</td>\n",
       "      <td>1</td>\n",
       "      <td>0</td>\n",
       "      <td>1</td>\n",
       "      <td>1</td>\n",
       "      <td>53</td>\n",
       "      <td>5840000</td>\n",
       "      <td>105.8</td>\n",
       "      <td>87.18</td>\n",
       "      <td>1</td>\n",
       "      <td>1</td>\n",
       "    </tr>\n",
       "    <tr>\n",
       "      <th>999</th>\n",
       "      <td>0</td>\n",
       "      <td>1</td>\n",
       "      <td>0</td>\n",
       "      <td>3</td>\n",
       "      <td>0</td>\n",
       "      <td>50</td>\n",
       "      <td>2940000</td>\n",
       "      <td>69.1</td>\n",
       "      <td>86.13</td>\n",
       "      <td>1</td>\n",
       "      <td>0</td>\n",
       "    </tr>\n",
       "  </tbody>\n",
       "</table>\n",
       "<p>1000 rows × 11 columns</p>\n",
       "</div>"
      ],
      "text/plain": [
       "     type_school  school_accreditation  gender  interest  residence  \\\n",
       "0              0                     0       0         2          0   \n",
       "1              0                     0       0         2          0   \n",
       "2              0                     1       1         0          0   \n",
       "3              1                     1       0         0          1   \n",
       "4              0                     0       1         0          0   \n",
       "..           ...                   ...     ...       ...        ...   \n",
       "995            1                     0       1         0          1   \n",
       "996            0                     1       1         2          1   \n",
       "997            1                     0       0         2          0   \n",
       "998            0                     1       0         1          1   \n",
       "999            0                     1       0         3          0   \n",
       "\n",
       "     parent_age  parent_salary  house_area  average_grades  \\\n",
       "0            56        6950000        83.0           84.09   \n",
       "1            57        4410000        76.8           86.91   \n",
       "2            50        6500000        80.6           87.43   \n",
       "3            49        6600000        78.2           82.12   \n",
       "4            57        5250000        75.1           86.79   \n",
       "..          ...            ...         ...             ...   \n",
       "995          49        7420000        63.6           85.99   \n",
       "996          51        7480000        84.3           89.72   \n",
       "997          49        5550000        75.2           79.56   \n",
       "998          53        5840000       105.8           87.18   \n",
       "999          50        2940000        69.1           86.13   \n",
       "\n",
       "     parent_was_in_college  in_college  \n",
       "0                        0           1  \n",
       "1                        0           1  \n",
       "2                        0           1  \n",
       "3                        1           1  \n",
       "4                        0           0  \n",
       "..                     ...         ...  \n",
       "995                      1           1  \n",
       "996                      1           1  \n",
       "997                      0           1  \n",
       "998                      1           1  \n",
       "999                      1           0  \n",
       "\n",
       "[1000 rows x 11 columns]"
      ]
     },
     "execution_count": 14,
     "metadata": {},
     "output_type": "execute_result"
    }
   ],
   "source": [
    "data['type_school']=data['type_school'].map({'Academic': 0,'Vocational': 1})\n",
    "data['school_accreditation']=data['school_accreditation'].map({'A': 0,'B': 1})\n",
    "data['gender']=data['gender'].map({'Male': 0,'Female': 1})\n",
    "data['interest']=data['interest'].map({'Very Interested': 0,'Uncertain': 1,'Less Interested':2,'Quiet Interested':3, 'Not Interested':4})\n",
    "data['residence']=data['residence'].map({'Urban':0,'Rural': 1})\n",
    "data[\"parent_was_in_college\"] = data[\"parent_was_in_college\"].astype(int)\n",
    "data[\"in_college\"] = data[\"in_college\"].astype(int)\n",
    "data"
   ]
  },
  {
   "cell_type": "code",
   "execution_count": 15,
   "id": "bdc0ba1b",
   "metadata": {
    "execution": {
     "iopub.execute_input": "2022-06-18T06:26:21.449107Z",
     "iopub.status.busy": "2022-06-18T06:26:21.448664Z",
     "iopub.status.idle": "2022-06-18T06:26:21.870847Z",
     "shell.execute_reply": "2022-06-18T06:26:21.869966Z"
    },
    "id": "-rjAvAgxXiWI",
    "papermill": {
     "duration": 0.437709,
     "end_time": "2022-06-18T06:26:21.873051",
     "exception": false,
     "start_time": "2022-06-18T06:26:21.435342",
     "status": "completed"
    },
    "tags": []
   },
   "outputs": [],
   "source": [
    "from sklearn.linear_model import LogisticRegression\n",
    "from sklearn.model_selection import train_test_split\n",
    "from sklearn.tree import DecisionTreeClassifier\n",
    "from sklearn.neighbors import KNeighborsClassifier\n",
    "from sklearn.ensemble import RandomForestClassifier\n",
    "from sklearn.preprocessing import StandardScaler\n",
    "from sklearn.metrics import accuracy_score, confusion_matrix, classification_report"
   ]
  },
  {
   "cell_type": "code",
   "execution_count": 16,
   "id": "943bfe92",
   "metadata": {
    "execution": {
     "iopub.execute_input": "2022-06-18T06:26:21.894538Z",
     "iopub.status.busy": "2022-06-18T06:26:21.893953Z",
     "iopub.status.idle": "2022-06-18T06:26:21.899780Z",
     "shell.execute_reply": "2022-06-18T06:26:21.898978Z"
    },
    "id": "M0AznlsNX5Ut",
    "papermill": {
     "duration": 0.018426,
     "end_time": "2022-06-18T06:26:21.901717",
     "exception": false,
     "start_time": "2022-06-18T06:26:21.883291",
     "status": "completed"
    },
    "tags": []
   },
   "outputs": [],
   "source": [
    "x=data.drop('in_college',axis=1)\n",
    "y=data['in_college']"
   ]
  },
  {
   "cell_type": "code",
   "execution_count": 17,
   "id": "573a934b",
   "metadata": {
    "execution": {
     "iopub.execute_input": "2022-06-18T06:26:21.922824Z",
     "iopub.status.busy": "2022-06-18T06:26:21.922461Z",
     "iopub.status.idle": "2022-06-18T06:26:21.933429Z",
     "shell.execute_reply": "2022-06-18T06:26:21.932780Z"
    },
    "id": "cbsuk_cdXy3s",
    "outputId": "7e22e943-999a-4b86-9d6a-b8070680f6a0",
    "papermill": {
     "duration": 0.023502,
     "end_time": "2022-06-18T06:26:21.935091",
     "exception": false,
     "start_time": "2022-06-18T06:26:21.911589",
     "status": "completed"
    },
    "tags": []
   },
   "outputs": [
    {
     "data": {
      "text/plain": [
       "((700, 10), (700,), (300, 10), (300,))"
      ]
     },
     "execution_count": 17,
     "metadata": {},
     "output_type": "execute_result"
    }
   ],
   "source": [
    "# Scaling the data \n",
    "scaler =StandardScaler()\n",
    "Xs = scaler.fit_transform(x)\n",
    "\n",
    "X_train, X_test, y_train, y_test = train_test_split(Xs, y, test_size=0.3, random_state=42)\n",
    "X_train.shape, y_train.shape, X_test.shape, y_test.shape"
   ]
  },
  {
   "cell_type": "code",
   "execution_count": 18,
   "id": "c3b87ca2",
   "metadata": {
    "execution": {
     "iopub.execute_input": "2022-06-18T06:26:21.956359Z",
     "iopub.status.busy": "2022-06-18T06:26:21.955742Z",
     "iopub.status.idle": "2022-06-18T06:26:21.971160Z",
     "shell.execute_reply": "2022-06-18T06:26:21.970486Z"
    },
    "id": "EFQsA4gRYKTy",
    "outputId": "fe81355e-e089-441e-f8ef-d399c08da49b",
    "papermill": {
     "duration": 0.029415,
     "end_time": "2022-06-18T06:26:21.974003",
     "exception": false,
     "start_time": "2022-06-18T06:26:21.944588",
     "status": "completed"
    },
    "tags": []
   },
   "outputs": [
    {
     "name": "stdout",
     "output_type": "stream",
     "text": [
      "\n",
      "The Logistic Regression model accuracy score is 0.85\n",
      "\n"
     ]
    }
   ],
   "source": [
    "model1 = LogisticRegression()\n",
    "model1.fit(X_train, y_train)\n",
    "\n",
    "model1_score = model1.score(X_test, y_test)\n",
    "print('\\nThe Logistic Regression model accuracy score is {:03.2f}\\n'.format(model1_score))"
   ]
  },
  {
   "cell_type": "code",
   "execution_count": 19,
   "id": "1edb2cf4",
   "metadata": {
    "execution": {
     "iopub.execute_input": "2022-06-18T06:26:21.996561Z",
     "iopub.status.busy": "2022-06-18T06:26:21.996180Z",
     "iopub.status.idle": "2022-06-18T06:26:22.004778Z",
     "shell.execute_reply": "2022-06-18T06:26:22.004107Z"
    },
    "id": "xMikeObebMB0",
    "papermill": {
     "duration": 0.02162,
     "end_time": "2022-06-18T06:26:22.006726",
     "exception": false,
     "start_time": "2022-06-18T06:26:21.985106",
     "status": "completed"
    },
    "tags": []
   },
   "outputs": [],
   "source": [
    "model1.fit(X_train, y_train)\n",
    "y_pred = model1.predict(X_test)"
   ]
  },
  {
   "cell_type": "code",
   "execution_count": 20,
   "id": "3fd6d64c",
   "metadata": {
    "execution": {
     "iopub.execute_input": "2022-06-18T06:26:22.028734Z",
     "iopub.status.busy": "2022-06-18T06:26:22.028231Z",
     "iopub.status.idle": "2022-06-18T06:26:22.036374Z",
     "shell.execute_reply": "2022-06-18T06:26:22.035717Z"
    },
    "id": "AMNgKhmGYUKB",
    "outputId": "0cdfb7ad-3c81-4c58-9196-c90622ed7304",
    "papermill": {
     "duration": 0.021683,
     "end_time": "2022-06-18T06:26:22.038576",
     "exception": false,
     "start_time": "2022-06-18T06:26:22.016893",
     "status": "completed"
    },
    "tags": []
   },
   "outputs": [
    {
     "name": "stdout",
     "output_type": "stream",
     "text": [
      "Classification Report:\n",
      "               precision    recall  f1-score   support\n",
      "\n",
      "           0       0.86      0.85      0.85       151\n",
      "           1       0.85      0.86      0.85       149\n",
      "\n",
      "    accuracy                           0.85       300\n",
      "   macro avg       0.85      0.85      0.85       300\n",
      "weighted avg       0.85      0.85      0.85       300\n",
      "\n"
     ]
    }
   ],
   "source": [
    "print(\"Classification Report:\\n\", classification_report(y_test, y_pred))"
   ]
  },
  {
   "cell_type": "code",
   "execution_count": 21,
   "id": "954f96cd",
   "metadata": {
    "execution": {
     "iopub.execute_input": "2022-06-18T06:26:22.061250Z",
     "iopub.status.busy": "2022-06-18T06:26:22.060724Z",
     "iopub.status.idle": "2022-06-18T06:26:22.071203Z",
     "shell.execute_reply": "2022-06-18T06:26:22.070579Z"
    },
    "id": "xUl7ncaja-Dq",
    "outputId": "d96505d8-7aa3-44aa-df55-0c49c59d5de4",
    "papermill": {
     "duration": 0.023592,
     "end_time": "2022-06-18T06:26:22.073110",
     "exception": false,
     "start_time": "2022-06-18T06:26:22.049518",
     "status": "completed"
    },
    "tags": []
   },
   "outputs": [
    {
     "name": "stdout",
     "output_type": "stream",
     "text": [
      "\n",
      "The Decision Tree classifier model2 accuracy score is 0.82\n",
      "\n"
     ]
    }
   ],
   "source": [
    "model2 = DecisionTreeClassifier()\n",
    "model2.fit(X_train, y_train)\n",
    "\n",
    "model2_score = model2.score(X_test, y_test)\n",
    "print('\\nThe Decision Tree classifier model2 accuracy score is {:03.2f}\\n'.format(model2_score))"
   ]
  },
  {
   "cell_type": "code",
   "execution_count": 22,
   "id": "a2aa4857",
   "metadata": {
    "execution": {
     "iopub.execute_input": "2022-06-18T06:26:22.094972Z",
     "iopub.status.busy": "2022-06-18T06:26:22.094411Z",
     "iopub.status.idle": "2022-06-18T06:26:22.100933Z",
     "shell.execute_reply": "2022-06-18T06:26:22.100255Z"
    },
    "id": "0GI9b7RVbsOL",
    "papermill": {
     "duration": 0.019664,
     "end_time": "2022-06-18T06:26:22.102755",
     "exception": false,
     "start_time": "2022-06-18T06:26:22.083091",
     "status": "completed"
    },
    "tags": []
   },
   "outputs": [],
   "source": [
    "model2.fit(X_train, y_train)\n",
    "y_pred = model2.predict(X_test)"
   ]
  },
  {
   "cell_type": "code",
   "execution_count": 23,
   "id": "7722050b",
   "metadata": {
    "execution": {
     "iopub.execute_input": "2022-06-18T06:26:22.124672Z",
     "iopub.status.busy": "2022-06-18T06:26:22.124082Z",
     "iopub.status.idle": "2022-06-18T06:26:22.132571Z",
     "shell.execute_reply": "2022-06-18T06:26:22.131804Z"
    },
    "id": "2xAPtYAHb5l3",
    "outputId": "b54b51b2-576d-49a9-c5a4-cbc022d6765e",
    "papermill": {
     "duration": 0.022229,
     "end_time": "2022-06-18T06:26:22.134834",
     "exception": false,
     "start_time": "2022-06-18T06:26:22.112605",
     "status": "completed"
    },
    "tags": []
   },
   "outputs": [
    {
     "name": "stdout",
     "output_type": "stream",
     "text": [
      "Classification Report:\n",
      "               precision    recall  f1-score   support\n",
      "\n",
      "           0       0.80      0.85      0.82       151\n",
      "           1       0.84      0.78      0.81       149\n",
      "\n",
      "    accuracy                           0.82       300\n",
      "   macro avg       0.82      0.82      0.82       300\n",
      "weighted avg       0.82      0.82      0.82       300\n",
      "\n"
     ]
    }
   ],
   "source": [
    "print(\"Classification Report:\\n\", classification_report(y_test, y_pred))"
   ]
  },
  {
   "cell_type": "code",
   "execution_count": 24,
   "id": "2383b3e5",
   "metadata": {
    "execution": {
     "iopub.execute_input": "2022-06-18T06:26:22.157564Z",
     "iopub.status.busy": "2022-06-18T06:26:22.157062Z",
     "iopub.status.idle": "2022-06-18T06:26:22.345609Z",
     "shell.execute_reply": "2022-06-18T06:26:22.344604Z"
    },
    "id": "ejbdLhYwb7-9",
    "outputId": "1db34bd4-c5a6-4e38-b652-9acd9595e1d7",
    "papermill": {
     "duration": 0.202713,
     "end_time": "2022-06-18T06:26:22.348599",
     "exception": false,
     "start_time": "2022-06-18T06:26:22.145886",
     "status": "completed"
    },
    "tags": []
   },
   "outputs": [
    {
     "name": "stdout",
     "output_type": "stream",
     "text": [
      "\n",
      "The Random Forest Classifier accuracy score is 0.87\n",
      "\n"
     ]
    }
   ],
   "source": [
    "model3 = RandomForestClassifier()\n",
    "model3.fit(X_train, y_train)\n",
    "\n",
    "model3_score = model3.score(X_test, y_test)\n",
    "print('\\nThe Random Forest Classifier accuracy score is {:03.2f}\\n'.format(model3_score))"
   ]
  },
  {
   "cell_type": "code",
   "execution_count": 25,
   "id": "24aef575",
   "metadata": {
    "execution": {
     "iopub.execute_input": "2022-06-18T06:26:22.371362Z",
     "iopub.status.busy": "2022-06-18T06:26:22.370989Z",
     "iopub.status.idle": "2022-06-18T06:26:22.556690Z",
     "shell.execute_reply": "2022-06-18T06:26:22.555819Z"
    },
    "id": "Uoxl0C55cJ3U",
    "papermill": {
     "duration": 0.199354,
     "end_time": "2022-06-18T06:26:22.558889",
     "exception": false,
     "start_time": "2022-06-18T06:26:22.359535",
     "status": "completed"
    },
    "tags": []
   },
   "outputs": [],
   "source": [
    "model3.fit(X_train, y_train)\n",
    "y_pred = model3.predict(X_test)"
   ]
  },
  {
   "cell_type": "code",
   "execution_count": 26,
   "id": "d37b0071",
   "metadata": {
    "execution": {
     "iopub.execute_input": "2022-06-18T06:26:22.580626Z",
     "iopub.status.busy": "2022-06-18T06:26:22.579892Z",
     "iopub.status.idle": "2022-06-18T06:26:22.589326Z",
     "shell.execute_reply": "2022-06-18T06:26:22.587864Z"
    },
    "id": "9Y6WaPlkcdDm",
    "outputId": "ed2b6795-829f-4d09-b426-77a707954513",
    "papermill": {
     "duration": 0.0222,
     "end_time": "2022-06-18T06:26:22.591244",
     "exception": false,
     "start_time": "2022-06-18T06:26:22.569044",
     "status": "completed"
    },
    "tags": []
   },
   "outputs": [
    {
     "name": "stdout",
     "output_type": "stream",
     "text": [
      "Classification Report:\n",
      "               precision    recall  f1-score   support\n",
      "\n",
      "           0       0.83      0.86      0.85       151\n",
      "           1       0.85      0.83      0.84       149\n",
      "\n",
      "    accuracy                           0.84       300\n",
      "   macro avg       0.84      0.84      0.84       300\n",
      "weighted avg       0.84      0.84      0.84       300\n",
      "\n"
     ]
    }
   ],
   "source": [
    "print(\"Classification Report:\\n\", classification_report(y_test, y_pred))"
   ]
  },
  {
   "cell_type": "code",
   "execution_count": 27,
   "id": "57b8e341",
   "metadata": {
    "execution": {
     "iopub.execute_input": "2022-06-18T06:26:22.613833Z",
     "iopub.status.busy": "2022-06-18T06:26:22.612762Z",
     "iopub.status.idle": "2022-06-18T06:26:22.622713Z",
     "shell.execute_reply": "2022-06-18T06:26:22.621967Z"
    },
    "id": "4aD2a6-Ncf1z",
    "outputId": "9f2b989e-adf3-47ea-b4ac-fa78f1267005",
    "papermill": {
     "duration": 0.023172,
     "end_time": "2022-06-18T06:26:22.624750",
     "exception": false,
     "start_time": "2022-06-18T06:26:22.601578",
     "status": "completed"
    },
    "tags": []
   },
   "outputs": [
    {
     "name": "stdout",
     "output_type": "stream",
     "text": [
      "\n",
      "The Naive Bayes accuracy score is 0.80\n",
      "\n"
     ]
    }
   ],
   "source": [
    "from sklearn.naive_bayes import GaussianNB\n",
    "model4 = GaussianNB()\n",
    "model4.fit(X_train, y_train)\n",
    "model4_score = model4.score(X_test, y_test)\n",
    "print('\\nThe Naive Bayes accuracy score is {:03.2f}\\n'.format(model4_score))"
   ]
  },
  {
   "cell_type": "code",
   "execution_count": 28,
   "id": "77b8664f",
   "metadata": {
    "execution": {
     "iopub.execute_input": "2022-06-18T06:26:22.647153Z",
     "iopub.status.busy": "2022-06-18T06:26:22.646072Z",
     "iopub.status.idle": "2022-06-18T06:26:22.653290Z",
     "shell.execute_reply": "2022-06-18T06:26:22.652553Z"
    },
    "id": "q6-8Ug0EdeUR",
    "papermill": {
     "duration": 0.020397,
     "end_time": "2022-06-18T06:26:22.655373",
     "exception": false,
     "start_time": "2022-06-18T06:26:22.634976",
     "status": "completed"
    },
    "tags": []
   },
   "outputs": [],
   "source": [
    "model4.fit(X_train, y_train)\n",
    "y_pred = model4.predict(X_test)"
   ]
  },
  {
   "cell_type": "code",
   "execution_count": 29,
   "id": "d3b17237",
   "metadata": {
    "execution": {
     "iopub.execute_input": "2022-06-18T06:26:22.678194Z",
     "iopub.status.busy": "2022-06-18T06:26:22.677107Z",
     "iopub.status.idle": "2022-06-18T06:26:22.687281Z",
     "shell.execute_reply": "2022-06-18T06:26:22.686427Z"
    },
    "id": "2IOtcpO1dHIS",
    "outputId": "6cc0ece9-e916-4068-a7b6-f7454144f265",
    "papermill": {
     "duration": 0.024085,
     "end_time": "2022-06-18T06:26:22.689597",
     "exception": false,
     "start_time": "2022-06-18T06:26:22.665512",
     "status": "completed"
    },
    "tags": []
   },
   "outputs": [
    {
     "name": "stdout",
     "output_type": "stream",
     "text": [
      "Classification Report:\n",
      "               precision    recall  f1-score   support\n",
      "\n",
      "           0       0.80      0.81      0.81       151\n",
      "           1       0.81      0.79      0.80       149\n",
      "\n",
      "    accuracy                           0.80       300\n",
      "   macro avg       0.80      0.80      0.80       300\n",
      "weighted avg       0.80      0.80      0.80       300\n",
      "\n"
     ]
    }
   ],
   "source": [
    "print(\"Classification Report:\\n\", classification_report(y_test, y_pred))"
   ]
  },
  {
   "cell_type": "code",
   "execution_count": null,
   "id": "c4b59428",
   "metadata": {
    "id": "1oexCQ8AdawX",
    "papermill": {
     "duration": 0.009765,
     "end_time": "2022-06-18T06:26:22.709659",
     "exception": false,
     "start_time": "2022-06-18T06:26:22.699894",
     "status": "completed"
    },
    "tags": []
   },
   "outputs": [],
   "source": []
  }
 ],
 "metadata": {
  "kernelspec": {
   "display_name": "Python 3",
   "language": "python",
   "name": "python3"
  },
  "language_info": {
   "codemirror_mode": {
    "name": "ipython",
    "version": 3
   },
   "file_extension": ".py",
   "mimetype": "text/x-python",
   "name": "python",
   "nbconvert_exporter": "python",
   "pygments_lexer": "ipython3",
   "version": "3.7.12"
  },
  "papermill": {
   "default_parameters": {},
   "duration": 13.543916,
   "end_time": "2022-06-18T06:26:23.440715",
   "environment_variables": {},
   "exception": null,
   "input_path": "__notebook__.ipynb",
   "output_path": "__notebook__.ipynb",
   "parameters": {},
   "start_time": "2022-06-18T06:26:09.896799",
   "version": "2.3.4"
  }
 },
 "nbformat": 4,
 "nbformat_minor": 5
}
